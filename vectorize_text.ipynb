{
 "cells": [
  {
   "cell_type": "code",
   "execution_count": 2,
   "metadata": {},
   "outputs": [],
   "source": [
    "#!/usr/bin/python\n",
    "\n",
    "import os\n",
    "import pickle\n",
    "import re\n",
    "import sys\n",
    "import pandas as pd\n",
    "import numpy as np\n",
    "\n",
    "from sklearn import model_selection\n",
    "from sklearn.feature_extraction.text import CountVectorizer\n",
    "from sklearn.feature_extraction.text import TfidfTransformer\n",
    "from sklearn.feature_extraction.text import TfidfVectorizer\n",
    "from sklearn.feature_selection import SelectPercentile, f_classif\n",
    "\n",
    "from parse_out_email_text import parseOutText\n",
    "from poi_email_addresses import poiEmails\n",
    "\n",
    "from sklearn.externals.six import StringIO  \n",
    "from IPython.display import Image  \n",
    "from sklearn.tree import export_graphviz\n",
    "import pydotplus\n",
    "\n",
    "from collections import defaultdict"
   ]
  },
  {
   "cell_type": "code",
   "execution_count": 3,
   "metadata": {},
   "outputs": [],
   "source": [
    "poi_emails = poiEmails()\n",
    "\n",
    "from_emails_folder=r'C:\\Users\\jcsmi329\\Documents\\Homework\\Udacity\\Projects\\Machine Learning\\ud120-projects-master\\final_project\\emails_by_address'\n",
    "base_folder=r'C:\\Users\\jcsmi329\\Documents\\Homework\\Udacity\\Projects\\Machine Learning\\ud120-projects-master'\n",
    "\n",
    "word_data = defaultdict(list)\n",
    "final_project_emails = []\n",
    "email_names = set()\n",
    "\n",
    "\n",
    "### Load the dictionary containing the dataset\n",
    "with open(r\"C:\\Users\\jcsmi329\\Documents\\Homework\\Udacity\\Projects\\Machine Learning\\final_project\\final_project_dataset.pkl\", \"rb\") as data_file:\n",
    "    data_dict = pickle.load(data_file)\n",
    "\n",
    "for x in data_dict.values():\n",
    "    em = x.get('email_address')\n",
    "    if em != \"NaN\":\n",
    "        final_project_emails.append(em)"
   ]
  },
  {
   "cell_type": "code",
   "execution_count": 4,
   "metadata": {},
   "outputs": [
    {
     "name": "stdout",
     "output_type": "stream",
     "text": [
      "emails processed\n"
     ]
    }
   ],
   "source": [
    "### Load the dictionary containing the processed text from the emails\n",
    "### Code is in vectorize_text.py - heavily borrowed from the scripts used in the text learning module\n",
    "## as well as the email_preprocess module\n",
    "# with open(\"email_text.pkl\", \"rb\") as data_file:\n",
    "#     email_dict = pickle.load(data_file)    \n",
    "\n",
    "# if not email_dict:\n",
    "\n",
    "for filename in os.listdir(from_emails_folder):\n",
    "\n",
    "    file_email_address = filename[filename.find('_') + 1:].replace('.txt','')\n",
    "\n",
    "    if file_email_address in final_project_emails and filename[:4] == 'from':\n",
    "        email_list = open(os.path.join(from_emails_folder,filename),'r')\n",
    "\n",
    "        for path in email_list:\n",
    "            path = path.replace(r'enron_mail_20110402','').replace(r'/','',1).replace('.','_')\n",
    "\n",
    "            path = os.path.join(base_folder, path[:-1])\n",
    "            email = open(path, \"r\")\n",
    "\n",
    "            if path not in email_names:\n",
    "                email_names.add(path)\n",
    "                t = parseOutText(email)\n",
    "                word_data[file_email_address].append(t)\n",
    "                email.close()\n",
    "\n",
    "\n",
    "print(\"emails processed\")\n",
    "\n",
    "\n"
   ]
  },
  {
   "cell_type": "code",
   "execution_count": 7,
   "metadata": {},
   "outputs": [],
   "source": [
    "output_file = r\"C:\\Users\\jcsmi329\\Documents\\Homework\\Udacity\\Projects\\Machine Learning\\final_project - python_2_7\\email_text.pkl\"\n",
    "\n",
    "pickle.dump(word_data,open(output_file,'w'))"
   ]
  },
  {
   "cell_type": "code",
   "execution_count": 6,
   "metadata": {},
   "outputs": [
    {
     "ename": "NameError",
     "evalue": "name 'from_poi' is not defined",
     "output_type": "error",
     "traceback": [
      "\u001b[1;31m---------------------------------------------------------------------------\u001b[0m",
      "\u001b[1;31mNameError\u001b[0m                                 Traceback (most recent call last)",
      "\u001b[1;32m<ipython-input-6-fdcae87f321f>\u001b[0m in \u001b[0;36m<module>\u001b[1;34m()\u001b[0m\n\u001b[0;32m      1\u001b[0m \u001b[1;33m\u001b[0m\u001b[0m\n\u001b[1;32m----> 2\u001b[1;33m \u001b[0mfeatures_train\u001b[0m\u001b[1;33m,\u001b[0m \u001b[0mfeatures_test\u001b[0m\u001b[1;33m,\u001b[0m \u001b[0mlabels_train\u001b[0m\u001b[1;33m,\u001b[0m \u001b[0mlabels_test\u001b[0m \u001b[1;33m=\u001b[0m \u001b[0mmodel_selection\u001b[0m\u001b[1;33m.\u001b[0m\u001b[0mtrain_test_split\u001b[0m\u001b[1;33m(\u001b[0m\u001b[0mword_data\u001b[0m\u001b[1;33m,\u001b[0m \u001b[0mfrom_poi\u001b[0m\u001b[1;33m)\u001b[0m\u001b[1;33m\u001b[0m\u001b[0m\n\u001b[0m\u001b[0;32m      3\u001b[0m \u001b[1;33m\u001b[0m\u001b[0m\n\u001b[0;32m      4\u001b[0m \u001b[1;33m\u001b[0m\u001b[0m\n\u001b[0;32m      5\u001b[0m \u001b[1;33m\u001b[0m\u001b[0m\n",
      "\u001b[1;31mNameError\u001b[0m: name 'from_poi' is not defined"
     ]
    }
   ],
   "source": [
    "\n",
    "features_train, features_test, labels_train, labels_test = model_selection.train_test_split(word_data, from_poi)\n",
    "\n",
    "\n",
    "\n",
    "### text vectorization--go from strings to lists of numbers\n",
    "vectorizer = TfidfVectorizer(sublinear_tf=True, max_df=0.85,\n",
    "                             stop_words='english',max_features=10000)\n",
    "features_train_transformed = vectorizer.fit_transform(features_train)\n",
    "features_test_transformed  = vectorizer.transform(features_test)\n",
    "terms = vectorizer.get_feature_names()\n",
    "\n",
    "\n",
    "### feature selection, because text is super high dimensional and \n",
    "### can be really computationally chewy as a result\n",
    "selector = SelectPercentile(f_classif, percentile=10)\n",
    "selector.fit(features_train_transformed, labels_train)\n",
    "features_train = selector.transform(features_train_transformed).toarray()\n",
    "features_test  = selector.transform(features_test_transformed).toarray()\n",
    "\n",
    "\n",
    "## https://stackoverflow.com/questions/41724432/ml-getting-feature-names-after-feature-selection-selectpercentile-python\n",
    "## https://stackoverflow.com/questions/9296658/how-to-filter-a-numpy-array-using-another-arrays-values\n",
    "\n",
    "support = np.asarray(selector.get_support(),'bool')\n",
    "\n",
    "terms = np.asarray(terms)\n",
    "\n",
    "selected_feature_names = terms[support]\n",
    "\n",
    "\n",
    "##https://stackoverflow.com/questions/30653642/combining-bag-of-words-and-other-features-in-one-model-using-sklearn-and-pandas\n"
   ]
  },
  {
   "cell_type": "code",
   "execution_count": null,
   "metadata": {},
   "outputs": [],
   "source": [
    "from sklearn.naive_bayes import GaussianNB\n",
    "\n",
    "gb = GaussianNB()\n",
    "\n",
    "gb.fit(features_train, labels_train)"
   ]
  },
  {
   "cell_type": "code",
   "execution_count": null,
   "metadata": {},
   "outputs": [],
   "source": [
    "print(gb.score(features_test,labels_test))\n",
    "\n",
    "y_pred = gb.predict(features_test)\n",
    "\n",
    "from sklearn.metrics import classification_report\n",
    "\n",
    "cr = classification_report(labels_test, y_pred)\n",
    "\n",
    "print(cr)"
   ]
  }
 ],
 "metadata": {
  "kernelspec": {
   "display_name": "Python 2",
   "language": "python",
   "name": "python2"
  },
  "language_info": {
   "codemirror_mode": {
    "name": "ipython",
    "version": 2
   },
   "file_extension": ".py",
   "mimetype": "text/x-python",
   "name": "python",
   "nbconvert_exporter": "python",
   "pygments_lexer": "ipython2",
   "version": "2.7.16"
  }
 },
 "nbformat": 4,
 "nbformat_minor": 2
}
